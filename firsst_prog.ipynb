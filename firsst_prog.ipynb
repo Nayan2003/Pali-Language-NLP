{
 "cells": [
  {
   "cell_type": "code",
   "execution_count": 1,
   "id": "11bae597",
   "metadata": {},
   "outputs": [],
   "source": [
    "import re\n",
    "import pandas as pd\n",
    "from collections import Counter"
   ]
  },
  {
   "cell_type": "code",
   "execution_count": 9,
   "id": "27489bf3",
   "metadata": {},
   "outputs": [],
   "source": [
    "# ------------------------------\n",
    "# 1️⃣ WORD-BASED TOKENIZER (Improved for Devanagari/Pali)\n",
    "# ------------------------------\n",
    "def tokenize_words(text):\n",
    "    # Match sequences of Devanagari letters + diacritics + numbers\n",
    "    # tokens = re.findall(r'[अ-ह़-ॉ़्ँ]+', text)\n",
    "    tokens = re.findall(r'[अ-हऀ-ॣ़़ऽ-ऽँंः]+', text)\n",
    "\n",
    "    return tokens\n",
    "\n",
    "# ------------------------------\n",
    "# 2️⃣ SENTENCE-BASED TOKENIZER\n",
    "# ------------------------------\n",
    "def tokenize_sentences(text):\n",
    "    # Split by danda '।', double danda '॥', or standard punctuation\n",
    "    sentences = re.split(r'[।॥.!?…]+', text)\n",
    "    sentences = [s.strip() for s in sentences if s.strip()]\n",
    "    return sentences\n",
    "\n",
    "# ------------------------------\n",
    "# 3️⃣ DOCUMENT-BASED TOKENIZER\n",
    "# ------------------------------\n",
    "def tokenize_documents(texts):\n",
    "    return texts\n",
    "\n",
    "# ------------------------------\n",
    "# 4️⃣ WORD FREQUENCY COUNTER\n",
    "# ------------------------------\n",
    "def word_frequency(tokens):\n",
    "    freq_dict = Counter(tokens)\n",
    "    return freq_dict\n",
    "\n",
    "# ------------------------------\n",
    "# 5️⃣ SORT BY FREQUENCY\n",
    "# ------------------------------\n",
    "def sort_by_frequency(freq_dict):\n",
    "    return sorted(freq_dict.items(), key=lambda x: x[1], reverse=True)\n",
    "\n",
    "# ------------------------------\n",
    "# 6️⃣ WORD–DOCUMENT MATRIX\n",
    "# ------------------------------\n",
    "def build_word_document_matrix(docs_tokens):\n",
    "    all_words = sorted(set(word for doc in docs_tokens for word in doc))\n",
    "    matrix_data = []\n",
    "\n",
    "    for word in all_words:\n",
    "        row = [tokens.count(word) for tokens in docs_tokens]\n",
    "        matrix_data.append(row)\n",
    "\n",
    "    df = pd.DataFrame(matrix_data, index=all_words,\n",
    "                      columns=[f'Doc{i+1}' for i in range(len(docs_tokens))])\n",
    "    return df\n"
   ]
  },
  {
   "cell_type": "code",
   "execution_count": 10,
   "id": "aeed8fa9",
   "metadata": {},
   "outputs": [
    {
     "name": "stdout",
     "output_type": "stream",
     "text": [
      "🔹 Word Tokens (Doc1): ['एवं', 'मे', 'सुतं', 'एकं', 'समयं', 'भगवा', 'राजगहे', 'विहरति', 'तेन', 'समयेन']\n",
      "\n",
      "🔹 Sentence Tokens (Doc1): ['एवं मे सुतं – एकं समयं भगवा राजगहे विहरति', 'तेन समयेन']\n",
      "\n",
      "🔹 Sorted Frequency (Doc1): [('एवं', 1), ('मे', 1), ('सुतं', 1), ('एकं', 1), ('समयं', 1), ('भगवा', 1), ('राजगहे', 1), ('विहरति', 1), ('तेन', 1), ('समयेन', 1)]\n",
      "\n",
      "🔹 Word–Document Matrix:\n",
      "               Doc1  Doc2\n",
      "अड्ढतेळसेहि      0     1\n",
      "एकं              1     0\n",
      "एवं              1     1\n",
      "तेन              1     0\n",
      "भगवा             1     0\n",
      "भिक्खुसङ्घेन     0     1\n",
      "भिक्खुसतेहि      0     1\n",
      "मे               1     1\n",
      "राजगहे           1     0\n",
      "विहरति           1     0\n",
      "सद्धिं           0     1\n",
      "समयं             1     0\n",
      "समयेन            1     0\n",
      "सुतं             1     1\n"
     ]
    }
   ],
   "source": [
    "# ------------------------------\n",
    "# Sample raw Pali texts (unclean)\n",
    "# ------------------------------\n",
    "doc1 = \"एवं मे सुतं – एकं समयं भगवा राजगहे विहरति। तेन समयेन...\"\n",
    "doc2 = \"भिक्खुसङ्घेन सद्धिं अड्ढतेळसेहि भिक्खुसतेहि॥ एवं मे सुतं।\"\n",
    "\n",
    "# Treat each doc as one document\n",
    "docs = tokenize_documents([doc1, doc2])\n",
    "\n",
    "# Tokenize words in each document\n",
    "docs_tokens = [tokenize_words(doc) for doc in docs]\n",
    "\n",
    "# Sentence-level tokens\n",
    "sentences = tokenize_sentences(doc1)\n",
    "\n",
    "# Frequency + Matrix\n",
    "freqs = [word_frequency(tokens) for tokens in docs_tokens]\n",
    "sorted_freqs = [sort_by_frequency(f) for f in freqs]\n",
    "matrix = build_word_document_matrix(docs_tokens)\n",
    "\n",
    "print(\"🔹 Word Tokens (Doc1):\", docs_tokens[0])\n",
    "print(\"\\n🔹 Sentence Tokens (Doc1):\", sentences)\n",
    "print(\"\\n🔹 Sorted Frequency (Doc1):\", sorted_freqs[0])\n",
    "print(\"\\n🔹 Word–Document Matrix:\\n\", matrix)\n"
   ]
  },
  {
   "cell_type": "code",
   "execution_count": null,
   "id": "c62db9d4",
   "metadata": {},
   "outputs": [],
   "source": []
  }
 ],
 "metadata": {
  "kernelspec": {
   "display_name": "base",
   "language": "python",
   "name": "python3"
  },
  "language_info": {
   "codemirror_mode": {
    "name": "ipython",
    "version": 3
   },
   "file_extension": ".py",
   "mimetype": "text/x-python",
   "name": "python",
   "nbconvert_exporter": "python",
   "pygments_lexer": "ipython3",
   "version": "3.12.7"
  }
 },
 "nbformat": 4,
 "nbformat_minor": 5
}
